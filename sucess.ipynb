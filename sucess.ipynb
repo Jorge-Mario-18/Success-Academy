{
 "cells": [
  {
   "cell_type": "code",
   "execution_count": 42,
   "metadata": {},
   "outputs": [],
   "source": [
    "import pandas as pd"
   ]
  },
  {
   "cell_type": "code",
   "execution_count": 43,
   "metadata": {},
   "outputs": [],
   "source": [
    "soccer = pd.read_csv('sa_soccer.csv', header=1)"
   ]
  },
  {
   "cell_type": "code",
   "execution_count": null,
   "metadata": {},
   "outputs": [],
   "source": [
    "soccer"
   ]
  },
  {
   "cell_type": "code",
   "execution_count": 45,
   "metadata": {},
   "outputs": [],
   "source": [
    "success_joint = soccer[(soccer['Home Team'] == 'Success Academy (Joint)') | (soccer['Visiting Team'] == 'Success Academy (Joint)')]"
   ]
  },
  {
   "cell_type": "code",
   "execution_count": 46,
   "metadata": {},
   "outputs": [],
   "source": [
    "success_manhattan = soccer[(soccer['Home Team'] == 'Success Academy Manhattan') | (soccer['Visiting Team'] == 'Success Academy Manhattan')]"
   ]
  },
  {
   "cell_type": "code",
   "execution_count": 47,
   "metadata": {},
   "outputs": [],
   "source": [
    "success_harlem = soccer[(soccer['Home Team'] == 'Success Academy Harlem') | (soccer['Visiting Team'] == 'Success Academy Harlem')]"
   ]
  },
  {
   "cell_type": "code",
   "execution_count": null,
   "metadata": {},
   "outputs": [],
   "source": [
    "success_manhattan"
   ]
  },
  {
   "cell_type": "code",
   "execution_count": 49,
   "metadata": {},
   "outputs": [
    {
     "name": "stderr",
     "output_type": "stream",
     "text": [
      "C:\\Users\\maniz\\AppData\\Local\\Temp\\ipykernel_30844\\319539149.py:33: SettingWithCopyWarning:\n",
      "\n",
      "\n",
      "A value is trying to be set on a copy of a slice from a DataFrame.\n",
      "Try using .loc[row_indexer,col_indexer] = value instead\n",
      "\n",
      "See the caveats in the documentation: https://pandas.pydata.org/pandas-docs/stable/user_guide/indexing.html#returning-a-view-versus-a-copy\n",
      "\n",
      "C:\\Users\\maniz\\AppData\\Local\\Temp\\ipykernel_30844\\319539149.py:34: SettingWithCopyWarning:\n",
      "\n",
      "\n",
      "A value is trying to be set on a copy of a slice from a DataFrame.\n",
      "Try using .loc[row_indexer,col_indexer] = value instead\n",
      "\n",
      "See the caveats in the documentation: https://pandas.pydata.org/pandas-docs/stable/user_guide/indexing.html#returning-a-view-versus-a-copy\n",
      "\n",
      "C:\\Users\\maniz\\AppData\\Local\\Temp\\ipykernel_30844\\319539149.py:35: SettingWithCopyWarning:\n",
      "\n",
      "\n",
      "A value is trying to be set on a copy of a slice from a DataFrame.\n",
      "Try using .loc[row_indexer,col_indexer] = value instead\n",
      "\n",
      "See the caveats in the documentation: https://pandas.pydata.org/pandas-docs/stable/user_guide/indexing.html#returning-a-view-versus-a-copy\n",
      "\n",
      "C:\\Users\\maniz\\AppData\\Local\\Temp\\ipykernel_30844\\319539149.py:37: SettingWithCopyWarning:\n",
      "\n",
      "\n",
      "A value is trying to be set on a copy of a slice from a DataFrame.\n",
      "Try using .loc[row_indexer,col_indexer] = value instead\n",
      "\n",
      "See the caveats in the documentation: https://pandas.pydata.org/pandas-docs/stable/user_guide/indexing.html#returning-a-view-versus-a-copy\n",
      "\n",
      "C:\\Users\\maniz\\AppData\\Local\\Temp\\ipykernel_30844\\319539149.py:38: SettingWithCopyWarning:\n",
      "\n",
      "\n",
      "A value is trying to be set on a copy of a slice from a DataFrame.\n",
      "Try using .loc[row_indexer,col_indexer] = value instead\n",
      "\n",
      "See the caveats in the documentation: https://pandas.pydata.org/pandas-docs/stable/user_guide/indexing.html#returning-a-view-versus-a-copy\n",
      "\n",
      "C:\\Users\\maniz\\AppData\\Local\\Temp\\ipykernel_30844\\319539149.py:39: UserWarning:\n",
      "\n",
      "Could not infer format, so each element will be parsed individually, falling back to `dateutil`. To ensure parsing is consistent and as-expected, please specify a format.\n",
      "\n",
      "C:\\Users\\maniz\\AppData\\Local\\Temp\\ipykernel_30844\\319539149.py:39: SettingWithCopyWarning:\n",
      "\n",
      "\n",
      "A value is trying to be set on a copy of a slice from a DataFrame.\n",
      "Try using .loc[row_indexer,col_indexer] = value instead\n",
      "\n",
      "See the caveats in the documentation: https://pandas.pydata.org/pandas-docs/stable/user_guide/indexing.html#returning-a-view-versus-a-copy\n",
      "\n"
     ]
    }
   ],
   "source": [
    "manhattan_score = []\n",
    "opposition_score = []\n",
    "result_1 = []\n",
    "\n",
    "for x in success_manhattan['Result']:\n",
    "    if \"W\" in x[0]: \n",
    "        y = x.split(\" \")\n",
    "        z = y[1].split(\"-\")\n",
    "        result_1.append(x[0])\n",
    "        if z[0] > z[1]:\n",
    "            manhattan_score.append(z[0])\n",
    "            opposition_score.append(z[1])\n",
    "        else:\n",
    "            manhattan_score.append(z[1])\n",
    "            opposition_score.append(z[0])\n",
    "    if \"L\" in x[0]: \n",
    "        a = x.split(\" \")\n",
    "        h = a[1].split(\"-\")\n",
    "        result_1.append(x[0])\n",
    "        if h[0] < h[1]:\n",
    "            manhattan_score.append(h[0])\n",
    "            opposition_score.append(h[1])\n",
    "        else:\n",
    "            manhattan_score.append(h[1])\n",
    "            opposition_score.append(h[0])\n",
    "    if \"T\" in x[0]:\n",
    "        b = x.split(\" \")\n",
    "        j = b[1].split(\"-\")\n",
    "        result_1.append(x[0])\n",
    "        manhattan_score.append(j[0])\n",
    "        opposition_score.append(j[1])\n",
    "\n",
    "success_manhattan['Manhattan Score'] = manhattan_score\n",
    "success_manhattan['Opposition Score'] = opposition_score\n",
    "success_manhattan['Game Result'] = result_1\n",
    "opps = success_manhattan.apply(lambda row: row['Visiting Team'] if row['Home Team'] == 'Success Academy Manhattan' else row['Home Team'], axis=1).tolist()\n",
    "success_manhattan['Opponent'] = opps\n",
    "success_manhattan['Manhattan Score'] = pd.to_numeric(success_manhattan['Manhattan Score'])\n",
    "success_manhattan['Date'] = pd.to_datetime(success_manhattan['Date'])\n",
    "success_manhattan.to_csv('success_manhattan.csv')"
   ]
  },
  {
   "cell_type": "code",
   "execution_count": 50,
   "metadata": {},
   "outputs": [
    {
     "data": {
      "text/html": [
       "<div>\n",
       "<style scoped>\n",
       "    .dataframe tbody tr th:only-of-type {\n",
       "        vertical-align: middle;\n",
       "    }\n",
       "\n",
       "    .dataframe tbody tr th {\n",
       "        vertical-align: top;\n",
       "    }\n",
       "\n",
       "    .dataframe thead th {\n",
       "        text-align: right;\n",
       "    }\n",
       "</style>\n",
       "<table border=\"1\" class=\"dataframe\">\n",
       "  <thead>\n",
       "    <tr style=\"text-align: right;\">\n",
       "      <th></th>\n",
       "      <th>League</th>\n",
       "      <th>School/Network</th>\n",
       "      <th>Age</th>\n",
       "      <th>Date</th>\n",
       "      <th>Day</th>\n",
       "      <th>Time</th>\n",
       "      <th>Venue</th>\n",
       "      <th>Home Team</th>\n",
       "      <th>Visiting Team</th>\n",
       "      <th>Result</th>\n",
       "      <th>Record</th>\n",
       "      <th>Needs Bus</th>\n",
       "      <th>Notes</th>\n",
       "      <th>Manhattan Score</th>\n",
       "      <th>Opposition Score</th>\n",
       "      <th>Game Result</th>\n",
       "      <th>Opponent</th>\n",
       "    </tr>\n",
       "  </thead>\n",
       "  <tbody>\n",
       "    <tr>\n",
       "      <th>0</th>\n",
       "      <td>Scrimmage</td>\n",
       "      <td>HSLA-Manhattan</td>\n",
       "      <td>Varsity - Boys</td>\n",
       "      <td>2023-09-24</td>\n",
       "      <td>Sunday</td>\n",
       "      <td>2:30 PM</td>\n",
       "      <td>Pier 42</td>\n",
       "      <td>Essex Street Academy</td>\n",
       "      <td>Success Academy Manhattan</td>\n",
       "      <td>W 6-4</td>\n",
       "      <td>NaN</td>\n",
       "      <td>No</td>\n",
       "      <td>NaN</td>\n",
       "      <td>6</td>\n",
       "      <td>4</td>\n",
       "      <td>W</td>\n",
       "      <td>Essex Street Academy</td>\n",
       "    </tr>\n",
       "    <tr>\n",
       "      <th>3</th>\n",
       "      <td>CSAA</td>\n",
       "      <td>HSLA-Manhattan</td>\n",
       "      <td>Varsity - Boys</td>\n",
       "      <td>2023-09-28</td>\n",
       "      <td>Thursday</td>\n",
       "      <td>5:00 PM</td>\n",
       "      <td>Jacob Schiff</td>\n",
       "      <td>American Dream</td>\n",
       "      <td>Success Academy Manhattan</td>\n",
       "      <td>W 3-2</td>\n",
       "      <td>1-0</td>\n",
       "      <td>No</td>\n",
       "      <td>No nets</td>\n",
       "      <td>3</td>\n",
       "      <td>2</td>\n",
       "      <td>W</td>\n",
       "      <td>American Dream</td>\n",
       "    </tr>\n",
       "    <tr>\n",
       "      <th>6</th>\n",
       "      <td>CSAA</td>\n",
       "      <td>HSLA-Manhattan</td>\n",
       "      <td>Varsity - Boys</td>\n",
       "      <td>2023-10-03</td>\n",
       "      <td>Tuesday</td>\n",
       "      <td>5:00 PM</td>\n",
       "      <td>Jacob Schiff</td>\n",
       "      <td>Success Academy Manhattan</td>\n",
       "      <td>Saint Demetrios</td>\n",
       "      <td>W 8-0</td>\n",
       "      <td>2-0</td>\n",
       "      <td>No</td>\n",
       "      <td>Nets provided</td>\n",
       "      <td>8</td>\n",
       "      <td>0</td>\n",
       "      <td>W</td>\n",
       "      <td>Saint Demetrios</td>\n",
       "    </tr>\n",
       "    <tr>\n",
       "      <th>9</th>\n",
       "      <td>CSAA</td>\n",
       "      <td>HSLA-Manhattan</td>\n",
       "      <td>Varsity - Boys</td>\n",
       "      <td>2023-10-12</td>\n",
       "      <td>Thursday</td>\n",
       "      <td>5:00 PM</td>\n",
       "      <td>Central Park North Meadow #6</td>\n",
       "      <td>Success Academy Manhattan</td>\n",
       "      <td>Legacy</td>\n",
       "      <td>W 3-1</td>\n",
       "      <td>3-0</td>\n",
       "      <td>No</td>\n",
       "      <td>Nets provided</td>\n",
       "      <td>3</td>\n",
       "      <td>1</td>\n",
       "      <td>W</td>\n",
       "      <td>Legacy</td>\n",
       "    </tr>\n",
       "    <tr>\n",
       "      <th>11</th>\n",
       "      <td>CSAA</td>\n",
       "      <td>HSLA-Manhattan</td>\n",
       "      <td>Varsity - Boys</td>\n",
       "      <td>2023-10-13</td>\n",
       "      <td>Friday</td>\n",
       "      <td>4:00 PM</td>\n",
       "      <td>Central Park North Meadow #5</td>\n",
       "      <td>Success Academy Manhattan</td>\n",
       "      <td>BASIS Manhattan</td>\n",
       "      <td>W 3-0 (FFT)</td>\n",
       "      <td>4-0</td>\n",
       "      <td>No</td>\n",
       "      <td>Nets provided</td>\n",
       "      <td>3</td>\n",
       "      <td>0</td>\n",
       "      <td>W</td>\n",
       "      <td>BASIS Manhattan</td>\n",
       "    </tr>\n",
       "    <tr>\n",
       "      <th>14</th>\n",
       "      <td>CSAA</td>\n",
       "      <td>HSLA-Harlem/Manhattan</td>\n",
       "      <td>Varsity - Boys</td>\n",
       "      <td>2023-10-17</td>\n",
       "      <td>Tuesday</td>\n",
       "      <td>5:00 PM</td>\n",
       "      <td>Jacob Schiff</td>\n",
       "      <td>Success Academy Harlem</td>\n",
       "      <td>Success Academy Manhattan</td>\n",
       "      <td>T 2-2</td>\n",
       "      <td>4-1-0</td>\n",
       "      <td>No</td>\n",
       "      <td>NaN</td>\n",
       "      <td>2</td>\n",
       "      <td>2</td>\n",
       "      <td>T</td>\n",
       "      <td>Success Academy Harlem</td>\n",
       "    </tr>\n",
       "    <tr>\n",
       "      <th>15</th>\n",
       "      <td>CSAA</td>\n",
       "      <td>HSLA-Harlem/Manhattan</td>\n",
       "      <td>Varsity - Boys</td>\n",
       "      <td>2023-10-17</td>\n",
       "      <td>Tuesday</td>\n",
       "      <td>5:00 PM</td>\n",
       "      <td>Jacob Schiff</td>\n",
       "      <td>Success Academy Harlem</td>\n",
       "      <td>Success Academy Manhattan</td>\n",
       "      <td>T 2-2</td>\n",
       "      <td>4-1-0</td>\n",
       "      <td>No</td>\n",
       "      <td>NaN</td>\n",
       "      <td>2</td>\n",
       "      <td>2</td>\n",
       "      <td>T</td>\n",
       "      <td>Success Academy Harlem</td>\n",
       "    </tr>\n",
       "    <tr>\n",
       "      <th>17</th>\n",
       "      <td>CSAA</td>\n",
       "      <td>HSLA-Manhattan</td>\n",
       "      <td>Varsity - Boys</td>\n",
       "      <td>2023-10-19</td>\n",
       "      <td>Thursday</td>\n",
       "      <td>4:00 PM</td>\n",
       "      <td>Starlight Park</td>\n",
       "      <td>New Visions</td>\n",
       "      <td>Success Academy Manhattan</td>\n",
       "      <td>L 4-3</td>\n",
       "      <td>4-1-1</td>\n",
       "      <td>No</td>\n",
       "      <td>NaN</td>\n",
       "      <td>3</td>\n",
       "      <td>4</td>\n",
       "      <td>L</td>\n",
       "      <td>New Visions</td>\n",
       "    </tr>\n",
       "    <tr>\n",
       "      <th>21</th>\n",
       "      <td>CSAA</td>\n",
       "      <td>HSLA-Manhattan</td>\n",
       "      <td>Varsity - Boys</td>\n",
       "      <td>2023-10-23</td>\n",
       "      <td>Monday</td>\n",
       "      <td>5:00 PM</td>\n",
       "      <td>Thomas Jefferson Park</td>\n",
       "      <td>Cristo Rey NY</td>\n",
       "      <td>Success Academy Manhattan</td>\n",
       "      <td>L 3-1</td>\n",
       "      <td>4-1-2</td>\n",
       "      <td>No</td>\n",
       "      <td>NaN</td>\n",
       "      <td>1</td>\n",
       "      <td>3</td>\n",
       "      <td>L</td>\n",
       "      <td>Cristo Rey NY</td>\n",
       "    </tr>\n",
       "    <tr>\n",
       "      <th>22</th>\n",
       "      <td>CSAA</td>\n",
       "      <td>HSLA-Manhattan</td>\n",
       "      <td>Varsity - Boys</td>\n",
       "      <td>2023-10-24</td>\n",
       "      <td>Tuesday</td>\n",
       "      <td>4:00 PM</td>\n",
       "      <td>Macombs Dam Park</td>\n",
       "      <td>New Heights</td>\n",
       "      <td>Success Academy Manhattan</td>\n",
       "      <td>W 3-0 (FFT)</td>\n",
       "      <td>5-1-2</td>\n",
       "      <td>No</td>\n",
       "      <td>NaN</td>\n",
       "      <td>3</td>\n",
       "      <td>0</td>\n",
       "      <td>W</td>\n",
       "      <td>New Heights</td>\n",
       "    </tr>\n",
       "    <tr>\n",
       "      <th>25</th>\n",
       "      <td>CSAA</td>\n",
       "      <td>HSLA-Manhattan</td>\n",
       "      <td>Varsity - Boys</td>\n",
       "      <td>2023-10-30</td>\n",
       "      <td>Monday</td>\n",
       "      <td>5:00 PM</td>\n",
       "      <td>Thomas Jefferson Park</td>\n",
       "      <td>Success Academy Manhattan</td>\n",
       "      <td>Health &amp; Science</td>\n",
       "      <td>W 8-0</td>\n",
       "      <td>6-1-2</td>\n",
       "      <td>No</td>\n",
       "      <td>NaN</td>\n",
       "      <td>8</td>\n",
       "      <td>0</td>\n",
       "      <td>W</td>\n",
       "      <td>Health &amp; Science</td>\n",
       "    </tr>\n",
       "    <tr>\n",
       "      <th>31</th>\n",
       "      <td>CSAA</td>\n",
       "      <td>HSLA-Manhattan</td>\n",
       "      <td>Varsity - Boys</td>\n",
       "      <td>2023-11-06</td>\n",
       "      <td>Monday</td>\n",
       "      <td>4:00 PM</td>\n",
       "      <td>Thomas Jefferson Park</td>\n",
       "      <td>Success Academy Manhattan</td>\n",
       "      <td>KIPP NYC</td>\n",
       "      <td>W 1-0</td>\n",
       "      <td>7-1-2</td>\n",
       "      <td>No</td>\n",
       "      <td>NaN</td>\n",
       "      <td>1</td>\n",
       "      <td>0</td>\n",
       "      <td>W</td>\n",
       "      <td>KIPP NYC</td>\n",
       "    </tr>\n",
       "    <tr>\n",
       "      <th>36</th>\n",
       "      <td>CSAA - QF's</td>\n",
       "      <td>HSLA-Manhattan</td>\n",
       "      <td>Varsity - Boys</td>\n",
       "      <td>2023-11-13</td>\n",
       "      <td>Monday</td>\n",
       "      <td>5:00 PM</td>\n",
       "      <td>Harlem River Park</td>\n",
       "      <td>Success Academy Manhattan</td>\n",
       "      <td>Legacy</td>\n",
       "      <td>W 2-0</td>\n",
       "      <td>8-1-2</td>\n",
       "      <td>No</td>\n",
       "      <td>NaN</td>\n",
       "      <td>2</td>\n",
       "      <td>0</td>\n",
       "      <td>W</td>\n",
       "      <td>Legacy</td>\n",
       "    </tr>\n",
       "    <tr>\n",
       "      <th>38</th>\n",
       "      <td>CSAA - SF's</td>\n",
       "      <td>HSLA-Manhattan</td>\n",
       "      <td>Varsity - Boys</td>\n",
       "      <td>2023-11-15</td>\n",
       "      <td>Wednesday</td>\n",
       "      <td>5:00 PM</td>\n",
       "      <td>Harlem River Park</td>\n",
       "      <td>Success Academy Manhattan</td>\n",
       "      <td>New Visions</td>\n",
       "      <td>L 0-1</td>\n",
       "      <td>8-1-3</td>\n",
       "      <td>No</td>\n",
       "      <td>NaN</td>\n",
       "      <td>0</td>\n",
       "      <td>1</td>\n",
       "      <td>L</td>\n",
       "      <td>New Visions</td>\n",
       "    </tr>\n",
       "  </tbody>\n",
       "</table>\n",
       "</div>"
      ],
      "text/plain": [
       "         League          School/Network             Age       Date        Day  \\\n",
       "0     Scrimmage         HSLA-Manhattan   Varsity - Boys 2023-09-24     Sunday   \n",
       "3          CSAA         HSLA-Manhattan   Varsity - Boys 2023-09-28  Thursday    \n",
       "6          CSAA         HSLA-Manhattan   Varsity - Boys 2023-10-03    Tuesday   \n",
       "9          CSAA         HSLA-Manhattan   Varsity - Boys 2023-10-12  Thursday    \n",
       "11         CSAA         HSLA-Manhattan   Varsity - Boys 2023-10-13     Friday   \n",
       "14         CSAA  HSLA-Harlem/Manhattan   Varsity - Boys 2023-10-17    Tuesday   \n",
       "15         CSAA  HSLA-Harlem/Manhattan   Varsity - Boys 2023-10-17    Tuesday   \n",
       "17         CSAA         HSLA-Manhattan   Varsity - Boys 2023-10-19  Thursday    \n",
       "21         CSAA         HSLA-Manhattan   Varsity - Boys 2023-10-23     Monday   \n",
       "22         CSAA         HSLA-Manhattan   Varsity - Boys 2023-10-24    Tuesday   \n",
       "25         CSAA         HSLA-Manhattan   Varsity - Boys 2023-10-30     Monday   \n",
       "31         CSAA         HSLA-Manhattan   Varsity - Boys 2023-11-06     Monday   \n",
       "36  CSAA - QF's         HSLA-Manhattan   Varsity - Boys 2023-11-13     Monday   \n",
       "38  CSAA - SF's         HSLA-Manhattan   Varsity - Boys 2023-11-15  Wednesday   \n",
       "\n",
       "       Time                         Venue                  Home Team  \\\n",
       "0   2:30 PM                       Pier 42       Essex Street Academy   \n",
       "3   5:00 PM                  Jacob Schiff             American Dream   \n",
       "6   5:00 PM                  Jacob Schiff  Success Academy Manhattan   \n",
       "9   5:00 PM  Central Park North Meadow #6  Success Academy Manhattan   \n",
       "11  4:00 PM  Central Park North Meadow #5  Success Academy Manhattan   \n",
       "14  5:00 PM                  Jacob Schiff     Success Academy Harlem   \n",
       "15  5:00 PM                  Jacob Schiff     Success Academy Harlem   \n",
       "17  4:00 PM                Starlight Park                New Visions   \n",
       "21  5:00 PM         Thomas Jefferson Park              Cristo Rey NY   \n",
       "22  4:00 PM              Macombs Dam Park                New Heights   \n",
       "25  5:00 PM         Thomas Jefferson Park  Success Academy Manhattan   \n",
       "31  4:00 PM         Thomas Jefferson Park  Success Academy Manhattan   \n",
       "36  5:00 PM             Harlem River Park  Success Academy Manhattan   \n",
       "38  5:00 PM             Harlem River Park  Success Academy Manhattan   \n",
       "\n",
       "                Visiting Team       Result Record Needs Bus          Notes  \\\n",
       "0   Success Academy Manhattan        W 6-4    NaN        No            NaN   \n",
       "3   Success Academy Manhattan        W 3-2    1-0        No        No nets   \n",
       "6             Saint Demetrios        W 8-0    2-0        No  Nets provided   \n",
       "9                     Legacy         W 3-1    3-0        No  Nets provided   \n",
       "11            BASIS Manhattan  W 3-0 (FFT)    4-0        No  Nets provided   \n",
       "14  Success Academy Manhattan        T 2-2  4-1-0        No            NaN   \n",
       "15  Success Academy Manhattan        T 2-2  4-1-0        No            NaN   \n",
       "17  Success Academy Manhattan        L 4-3  4-1-1        No            NaN   \n",
       "21  Success Academy Manhattan        L 3-1  4-1-2        No            NaN   \n",
       "22  Success Academy Manhattan  W 3-0 (FFT)  5-1-2        No            NaN   \n",
       "25           Health & Science        W 8-0  6-1-2        No            NaN   \n",
       "31                   KIPP NYC        W 1-0  7-1-2        No            NaN   \n",
       "36                    Legacy         W 2-0  8-1-2        No            NaN   \n",
       "38                New Visions        L 0-1  8-1-3        No            NaN   \n",
       "\n",
       "    Manhattan Score Opposition Score Game Result                Opponent  \n",
       "0                 6                4           W    Essex Street Academy  \n",
       "3                 3                2           W          American Dream  \n",
       "6                 8                0           W         Saint Demetrios  \n",
       "9                 3                1           W                 Legacy   \n",
       "11                3                0           W         BASIS Manhattan  \n",
       "14                2                2           T  Success Academy Harlem  \n",
       "15                2                2           T  Success Academy Harlem  \n",
       "17                3                4           L             New Visions  \n",
       "21                1                3           L           Cristo Rey NY  \n",
       "22                3                0           W             New Heights  \n",
       "25                8                0           W        Health & Science  \n",
       "31                1                0           W                KIPP NYC  \n",
       "36                2                0           W                 Legacy   \n",
       "38                0                1           L             New Visions  "
      ]
     },
     "execution_count": 50,
     "metadata": {},
     "output_type": "execute_result"
    }
   ],
   "source": [
    "success_manhattan"
   ]
  },
  {
   "cell_type": "code",
   "execution_count": 51,
   "metadata": {},
   "outputs": [
    {
     "name": "stderr",
     "output_type": "stream",
     "text": [
      "C:\\Users\\maniz\\AppData\\Local\\Temp\\ipykernel_30844\\2597724369.py:1: SettingWithCopyWarning:\n",
      "\n",
      "\n",
      "A value is trying to be set on a copy of a slice from a DataFrame\n",
      "\n",
      "See the caveats in the documentation: https://pandas.pydata.org/pandas-docs/stable/user_guide/indexing.html#returning-a-view-versus-a-copy\n",
      "\n"
     ]
    }
   ],
   "source": [
    "success_manhattan.drop(14, inplace=True)"
   ]
  },
  {
   "cell_type": "code",
   "execution_count": 39,
   "metadata": {},
   "outputs": [],
   "source": [
    "success_manhattan.to_csv('success_manhattan.csv')"
   ]
  },
  {
   "cell_type": "code",
   "execution_count": null,
   "metadata": {},
   "outputs": [],
   "source": [
    "harlem_score = []\n",
    "opposition_score_h= []\n",
    "result_2 = []\n",
    "\n",
    "for x in success_harlem['Result']:\n",
    "    if \"W\" in x[0]: \n",
    "        y = x.split(\" \")\n",
    "        z = y[1].split(\"-\")\n",
    "        result_2.append(x[0])\n",
    "        if z[0] > z[1]:\n",
    "            harlem_score.append(z[0])\n",
    "            opposition_score_h.append(z[1])\n",
    "        else:\n",
    "            harlem_score.append(z[1])\n",
    "            opposition_score_h.append(z[0])\n",
    "    if \"L\" in x[0]: \n",
    "        a = x.split(\" \")\n",
    "        h = a[1].split(\"-\")\n",
    "        result_2.append(x[0])\n",
    "        if h[0] < h[1]:\n",
    "            harlem_score.append(h[0])\n",
    "            opposition_score_h.append(h[1])\n",
    "        else:\n",
    "            harlem_score.append(h[1])\n",
    "            opposition_score_h.append(h[0])\n",
    "    if \"T\" in x[0]:\n",
    "        b = x.split(\" \")\n",
    "        j = b[1].split(\"-\")\n",
    "        result_2.append(x[0])\n",
    "        harlem_score.append(j[0])\n",
    "        opposition_score_h.append(j[1])\n",
    "\n",
    "success_harlem['Harlem Score'] = harlem_score\n",
    "success_harlem['Opposition Score'] = opposition_score_h\n",
    "success_harlem['Game Result'] = result_2\n",
    "opps = success_harlem.apply(lambda row: row['Visiting Team'] if row['Home Team'] == 'Success Academy Harlem' else row['Home Team'], axis=1).tolist()\n",
    "success_harlem['Opponent'] = opps\n",
    "success_harlem['Harlem Score'] = pd.to_numeric(success_harlem['Harlem Score'])\n",
    "success_harlem['Date'] = pd.to_datetime(success_harlem['Date'])\n",
    "success_harlem.to_csv('success_harlem.csv')"
   ]
  },
  {
   "cell_type": "code",
   "execution_count": null,
   "metadata": {},
   "outputs": [],
   "source": [
    "success_harlem.drop(14, inplace=True)"
   ]
  },
  {
   "cell_type": "code",
   "execution_count": 61,
   "metadata": {},
   "outputs": [
    {
     "name": "stderr",
     "output_type": "stream",
     "text": [
      "C:\\Users\\maniz\\AppData\\Local\\Temp\\ipykernel_30844\\628138186.py:33: SettingWithCopyWarning:\n",
      "\n",
      "\n",
      "A value is trying to be set on a copy of a slice from a DataFrame.\n",
      "Try using .loc[row_indexer,col_indexer] = value instead\n",
      "\n",
      "See the caveats in the documentation: https://pandas.pydata.org/pandas-docs/stable/user_guide/indexing.html#returning-a-view-versus-a-copy\n",
      "\n",
      "C:\\Users\\maniz\\AppData\\Local\\Temp\\ipykernel_30844\\628138186.py:34: SettingWithCopyWarning:\n",
      "\n",
      "\n",
      "A value is trying to be set on a copy of a slice from a DataFrame.\n",
      "Try using .loc[row_indexer,col_indexer] = value instead\n",
      "\n",
      "See the caveats in the documentation: https://pandas.pydata.org/pandas-docs/stable/user_guide/indexing.html#returning-a-view-versus-a-copy\n",
      "\n",
      "C:\\Users\\maniz\\AppData\\Local\\Temp\\ipykernel_30844\\628138186.py:35: SettingWithCopyWarning:\n",
      "\n",
      "\n",
      "A value is trying to be set on a copy of a slice from a DataFrame.\n",
      "Try using .loc[row_indexer,col_indexer] = value instead\n",
      "\n",
      "See the caveats in the documentation: https://pandas.pydata.org/pandas-docs/stable/user_guide/indexing.html#returning-a-view-versus-a-copy\n",
      "\n",
      "C:\\Users\\maniz\\AppData\\Local\\Temp\\ipykernel_30844\\628138186.py:37: SettingWithCopyWarning:\n",
      "\n",
      "\n",
      "A value is trying to be set on a copy of a slice from a DataFrame.\n",
      "Try using .loc[row_indexer,col_indexer] = value instead\n",
      "\n",
      "See the caveats in the documentation: https://pandas.pydata.org/pandas-docs/stable/user_guide/indexing.html#returning-a-view-versus-a-copy\n",
      "\n",
      "C:\\Users\\maniz\\AppData\\Local\\Temp\\ipykernel_30844\\628138186.py:38: SettingWithCopyWarning:\n",
      "\n",
      "\n",
      "A value is trying to be set on a copy of a slice from a DataFrame.\n",
      "Try using .loc[row_indexer,col_indexer] = value instead\n",
      "\n",
      "See the caveats in the documentation: https://pandas.pydata.org/pandas-docs/stable/user_guide/indexing.html#returning-a-view-versus-a-copy\n",
      "\n",
      "C:\\Users\\maniz\\AppData\\Local\\Temp\\ipykernel_30844\\628138186.py:39: UserWarning:\n",
      "\n",
      "Could not infer format, so each element will be parsed individually, falling back to `dateutil`. To ensure parsing is consistent and as-expected, please specify a format.\n",
      "\n",
      "C:\\Users\\maniz\\AppData\\Local\\Temp\\ipykernel_30844\\628138186.py:39: SettingWithCopyWarning:\n",
      "\n",
      "\n",
      "A value is trying to be set on a copy of a slice from a DataFrame.\n",
      "Try using .loc[row_indexer,col_indexer] = value instead\n",
      "\n",
      "See the caveats in the documentation: https://pandas.pydata.org/pandas-docs/stable/user_guide/indexing.html#returning-a-view-versus-a-copy\n",
      "\n"
     ]
    }
   ],
   "source": [
    "girls_score = []\n",
    "opposition_score_g= []\n",
    "result_3 = []\n",
    "\n",
    "for x in success_joint['Result']:\n",
    "    if \"W\" in x[0]: \n",
    "        y = x.split(\" \")\n",
    "        z = y[1].split(\"-\")\n",
    "        result_3.append(x[0])\n",
    "        if z[0] > z[1]:\n",
    "            girls_score.append(z[0])\n",
    "            opposition_score_g.append(z[1])\n",
    "        else:\n",
    "            girls_score.append(z[1])\n",
    "            opposition_score_g.append(z[0])\n",
    "    if \"L\" in x[0]: \n",
    "        a = x.split(\" \")\n",
    "        h = a[1].split(\"-\")\n",
    "        result_3.append(x[0])\n",
    "        if h[0] < h[1]:\n",
    "            girls_score.append(h[0])\n",
    "            opposition_score_g.append(h[1])\n",
    "        else:\n",
    "            girls_score.append(h[1])\n",
    "            opposition_score_g.append(h[0])\n",
    "    if \"T\" in x[0]:\n",
    "        b = x.split(\" \")\n",
    "        j = b[1].split(\"-\")\n",
    "        result_3.append(x[0])\n",
    "        girls_score.append(j[0])\n",
    "        opposition_score_g.append(j[1])\n",
    "\n",
    "success_joint['Girls Score'] = girls_score\n",
    "success_joint['Opposition Score'] = opposition_score_g\n",
    "success_joint['Game Result'] = result_3\n",
    "opps = success_joint.apply(lambda row: row['Visiting Team'] if row['Home Team'] == 'Success Academy Girls' else row['Home Team'], axis=1).tolist()\n",
    "success_joint['Opponent'] = opps\n",
    "success_joint['Girls Score'] = pd.to_numeric(success_joint['Girls Score'])\n",
    "success_joint['Date'] = pd.to_datetime(success_joint['Date'])\n",
    "success_joint.to_csv('success_girls.csv')"
   ]
  },
  {
   "cell_type": "code",
   "execution_count": 63,
   "metadata": {},
   "outputs": [
    {
     "data": {
      "text/html": [
       "<div>\n",
       "<style scoped>\n",
       "    .dataframe tbody tr th:only-of-type {\n",
       "        vertical-align: middle;\n",
       "    }\n",
       "\n",
       "    .dataframe tbody tr th {\n",
       "        vertical-align: top;\n",
       "    }\n",
       "\n",
       "    .dataframe thead th {\n",
       "        text-align: right;\n",
       "    }\n",
       "</style>\n",
       "<table border=\"1\" class=\"dataframe\">\n",
       "  <thead>\n",
       "    <tr style=\"text-align: right;\">\n",
       "      <th></th>\n",
       "      <th>League</th>\n",
       "      <th>School/Network</th>\n",
       "      <th>Age</th>\n",
       "      <th>Date</th>\n",
       "      <th>Day</th>\n",
       "      <th>Time</th>\n",
       "      <th>Venue</th>\n",
       "      <th>Home Team</th>\n",
       "      <th>Visiting Team</th>\n",
       "      <th>Result</th>\n",
       "      <th>Record</th>\n",
       "      <th>Needs Bus</th>\n",
       "      <th>Notes</th>\n",
       "      <th>Manhattan Score</th>\n",
       "      <th>Opposition Score</th>\n",
       "      <th>Game Result</th>\n",
       "      <th>Opponent</th>\n",
       "    </tr>\n",
       "  </thead>\n",
       "  <tbody>\n",
       "    <tr>\n",
       "      <th>0</th>\n",
       "      <td>Scrimmage</td>\n",
       "      <td>HSLA-Manhattan</td>\n",
       "      <td>Varsity - Boys</td>\n",
       "      <td>2023-09-24</td>\n",
       "      <td>Sunday</td>\n",
       "      <td>2:30 PM</td>\n",
       "      <td>Pier 42</td>\n",
       "      <td>Essex Street Academy</td>\n",
       "      <td>Success Academy Manhattan</td>\n",
       "      <td>W 6-4</td>\n",
       "      <td>NaN</td>\n",
       "      <td>No</td>\n",
       "      <td>NaN</td>\n",
       "      <td>6</td>\n",
       "      <td>4</td>\n",
       "      <td>W</td>\n",
       "      <td>Essex Street Academy</td>\n",
       "    </tr>\n",
       "    <tr>\n",
       "      <th>3</th>\n",
       "      <td>CSAA</td>\n",
       "      <td>HSLA-Manhattan</td>\n",
       "      <td>Varsity - Boys</td>\n",
       "      <td>2023-09-28</td>\n",
       "      <td>Thursday</td>\n",
       "      <td>5:00 PM</td>\n",
       "      <td>Jacob Schiff</td>\n",
       "      <td>American Dream</td>\n",
       "      <td>Success Academy Manhattan</td>\n",
       "      <td>W 3-2</td>\n",
       "      <td>1-0</td>\n",
       "      <td>No</td>\n",
       "      <td>No nets</td>\n",
       "      <td>3</td>\n",
       "      <td>2</td>\n",
       "      <td>W</td>\n",
       "      <td>American Dream</td>\n",
       "    </tr>\n",
       "    <tr>\n",
       "      <th>6</th>\n",
       "      <td>CSAA</td>\n",
       "      <td>HSLA-Manhattan</td>\n",
       "      <td>Varsity - Boys</td>\n",
       "      <td>2023-10-03</td>\n",
       "      <td>Tuesday</td>\n",
       "      <td>5:00 PM</td>\n",
       "      <td>Jacob Schiff</td>\n",
       "      <td>Success Academy Manhattan</td>\n",
       "      <td>Saint Demetrios</td>\n",
       "      <td>W 8-0</td>\n",
       "      <td>2-0</td>\n",
       "      <td>No</td>\n",
       "      <td>Nets provided</td>\n",
       "      <td>8</td>\n",
       "      <td>0</td>\n",
       "      <td>W</td>\n",
       "      <td>Saint Demetrios</td>\n",
       "    </tr>\n",
       "    <tr>\n",
       "      <th>9</th>\n",
       "      <td>CSAA</td>\n",
       "      <td>HSLA-Manhattan</td>\n",
       "      <td>Varsity - Boys</td>\n",
       "      <td>2023-10-12</td>\n",
       "      <td>Thursday</td>\n",
       "      <td>5:00 PM</td>\n",
       "      <td>Central Park North Meadow #6</td>\n",
       "      <td>Success Academy Manhattan</td>\n",
       "      <td>Legacy</td>\n",
       "      <td>W 3-1</td>\n",
       "      <td>3-0</td>\n",
       "      <td>No</td>\n",
       "      <td>Nets provided</td>\n",
       "      <td>3</td>\n",
       "      <td>1</td>\n",
       "      <td>W</td>\n",
       "      <td>Legacy</td>\n",
       "    </tr>\n",
       "    <tr>\n",
       "      <th>11</th>\n",
       "      <td>CSAA</td>\n",
       "      <td>HSLA-Manhattan</td>\n",
       "      <td>Varsity - Boys</td>\n",
       "      <td>2023-10-13</td>\n",
       "      <td>Friday</td>\n",
       "      <td>4:00 PM</td>\n",
       "      <td>Central Park North Meadow #5</td>\n",
       "      <td>Success Academy Manhattan</td>\n",
       "      <td>BASIS Manhattan</td>\n",
       "      <td>W 3-0 (FFT)</td>\n",
       "      <td>4-0</td>\n",
       "      <td>No</td>\n",
       "      <td>Nets provided</td>\n",
       "      <td>3</td>\n",
       "      <td>0</td>\n",
       "      <td>W</td>\n",
       "      <td>BASIS Manhattan</td>\n",
       "    </tr>\n",
       "    <tr>\n",
       "      <th>15</th>\n",
       "      <td>CSAA</td>\n",
       "      <td>HSLA-Harlem/Manhattan</td>\n",
       "      <td>Varsity - Boys</td>\n",
       "      <td>2023-10-17</td>\n",
       "      <td>Tuesday</td>\n",
       "      <td>5:00 PM</td>\n",
       "      <td>Jacob Schiff</td>\n",
       "      <td>Success Academy Harlem</td>\n",
       "      <td>Success Academy Manhattan</td>\n",
       "      <td>T 2-2</td>\n",
       "      <td>4-1-0</td>\n",
       "      <td>No</td>\n",
       "      <td>NaN</td>\n",
       "      <td>2</td>\n",
       "      <td>2</td>\n",
       "      <td>T</td>\n",
       "      <td>Success Academy Harlem</td>\n",
       "    </tr>\n",
       "    <tr>\n",
       "      <th>17</th>\n",
       "      <td>CSAA</td>\n",
       "      <td>HSLA-Manhattan</td>\n",
       "      <td>Varsity - Boys</td>\n",
       "      <td>2023-10-19</td>\n",
       "      <td>Thursday</td>\n",
       "      <td>4:00 PM</td>\n",
       "      <td>Starlight Park</td>\n",
       "      <td>New Visions</td>\n",
       "      <td>Success Academy Manhattan</td>\n",
       "      <td>L 4-3</td>\n",
       "      <td>4-1-1</td>\n",
       "      <td>No</td>\n",
       "      <td>NaN</td>\n",
       "      <td>3</td>\n",
       "      <td>4</td>\n",
       "      <td>L</td>\n",
       "      <td>New Visions</td>\n",
       "    </tr>\n",
       "    <tr>\n",
       "      <th>21</th>\n",
       "      <td>CSAA</td>\n",
       "      <td>HSLA-Manhattan</td>\n",
       "      <td>Varsity - Boys</td>\n",
       "      <td>2023-10-23</td>\n",
       "      <td>Monday</td>\n",
       "      <td>5:00 PM</td>\n",
       "      <td>Thomas Jefferson Park</td>\n",
       "      <td>Cristo Rey NY</td>\n",
       "      <td>Success Academy Manhattan</td>\n",
       "      <td>L 3-1</td>\n",
       "      <td>4-1-2</td>\n",
       "      <td>No</td>\n",
       "      <td>NaN</td>\n",
       "      <td>1</td>\n",
       "      <td>3</td>\n",
       "      <td>L</td>\n",
       "      <td>Cristo Rey NY</td>\n",
       "    </tr>\n",
       "    <tr>\n",
       "      <th>22</th>\n",
       "      <td>CSAA</td>\n",
       "      <td>HSLA-Manhattan</td>\n",
       "      <td>Varsity - Boys</td>\n",
       "      <td>2023-10-24</td>\n",
       "      <td>Tuesday</td>\n",
       "      <td>4:00 PM</td>\n",
       "      <td>Macombs Dam Park</td>\n",
       "      <td>New Heights</td>\n",
       "      <td>Success Academy Manhattan</td>\n",
       "      <td>W 3-0 (FFT)</td>\n",
       "      <td>5-1-2</td>\n",
       "      <td>No</td>\n",
       "      <td>NaN</td>\n",
       "      <td>3</td>\n",
       "      <td>0</td>\n",
       "      <td>W</td>\n",
       "      <td>New Heights</td>\n",
       "    </tr>\n",
       "    <tr>\n",
       "      <th>25</th>\n",
       "      <td>CSAA</td>\n",
       "      <td>HSLA-Manhattan</td>\n",
       "      <td>Varsity - Boys</td>\n",
       "      <td>2023-10-30</td>\n",
       "      <td>Monday</td>\n",
       "      <td>5:00 PM</td>\n",
       "      <td>Thomas Jefferson Park</td>\n",
       "      <td>Success Academy Manhattan</td>\n",
       "      <td>Health &amp; Science</td>\n",
       "      <td>W 8-0</td>\n",
       "      <td>6-1-2</td>\n",
       "      <td>No</td>\n",
       "      <td>NaN</td>\n",
       "      <td>8</td>\n",
       "      <td>0</td>\n",
       "      <td>W</td>\n",
       "      <td>Health &amp; Science</td>\n",
       "    </tr>\n",
       "    <tr>\n",
       "      <th>31</th>\n",
       "      <td>CSAA</td>\n",
       "      <td>HSLA-Manhattan</td>\n",
       "      <td>Varsity - Boys</td>\n",
       "      <td>2023-11-06</td>\n",
       "      <td>Monday</td>\n",
       "      <td>4:00 PM</td>\n",
       "      <td>Thomas Jefferson Park</td>\n",
       "      <td>Success Academy Manhattan</td>\n",
       "      <td>KIPP NYC</td>\n",
       "      <td>W 1-0</td>\n",
       "      <td>7-1-2</td>\n",
       "      <td>No</td>\n",
       "      <td>NaN</td>\n",
       "      <td>1</td>\n",
       "      <td>0</td>\n",
       "      <td>W</td>\n",
       "      <td>KIPP NYC</td>\n",
       "    </tr>\n",
       "    <tr>\n",
       "      <th>36</th>\n",
       "      <td>CSAA - QF's</td>\n",
       "      <td>HSLA-Manhattan</td>\n",
       "      <td>Varsity - Boys</td>\n",
       "      <td>2023-11-13</td>\n",
       "      <td>Monday</td>\n",
       "      <td>5:00 PM</td>\n",
       "      <td>Harlem River Park</td>\n",
       "      <td>Success Academy Manhattan</td>\n",
       "      <td>Legacy</td>\n",
       "      <td>W 2-0</td>\n",
       "      <td>8-1-2</td>\n",
       "      <td>No</td>\n",
       "      <td>NaN</td>\n",
       "      <td>2</td>\n",
       "      <td>0</td>\n",
       "      <td>W</td>\n",
       "      <td>Legacy</td>\n",
       "    </tr>\n",
       "    <tr>\n",
       "      <th>38</th>\n",
       "      <td>CSAA - SF's</td>\n",
       "      <td>HSLA-Manhattan</td>\n",
       "      <td>Varsity - Boys</td>\n",
       "      <td>2023-11-15</td>\n",
       "      <td>Wednesday</td>\n",
       "      <td>5:00 PM</td>\n",
       "      <td>Harlem River Park</td>\n",
       "      <td>Success Academy Manhattan</td>\n",
       "      <td>New Visions</td>\n",
       "      <td>L 0-1</td>\n",
       "      <td>8-1-3</td>\n",
       "      <td>No</td>\n",
       "      <td>NaN</td>\n",
       "      <td>0</td>\n",
       "      <td>1</td>\n",
       "      <td>L</td>\n",
       "      <td>New Visions</td>\n",
       "    </tr>\n",
       "  </tbody>\n",
       "</table>\n",
       "</div>"
      ],
      "text/plain": [
       "         League          School/Network             Age       Date        Day  \\\n",
       "0     Scrimmage         HSLA-Manhattan   Varsity - Boys 2023-09-24     Sunday   \n",
       "3          CSAA         HSLA-Manhattan   Varsity - Boys 2023-09-28  Thursday    \n",
       "6          CSAA         HSLA-Manhattan   Varsity - Boys 2023-10-03    Tuesday   \n",
       "9          CSAA         HSLA-Manhattan   Varsity - Boys 2023-10-12  Thursday    \n",
       "11         CSAA         HSLA-Manhattan   Varsity - Boys 2023-10-13     Friday   \n",
       "15         CSAA  HSLA-Harlem/Manhattan   Varsity - Boys 2023-10-17    Tuesday   \n",
       "17         CSAA         HSLA-Manhattan   Varsity - Boys 2023-10-19  Thursday    \n",
       "21         CSAA         HSLA-Manhattan   Varsity - Boys 2023-10-23     Monday   \n",
       "22         CSAA         HSLA-Manhattan   Varsity - Boys 2023-10-24    Tuesday   \n",
       "25         CSAA         HSLA-Manhattan   Varsity - Boys 2023-10-30     Monday   \n",
       "31         CSAA         HSLA-Manhattan   Varsity - Boys 2023-11-06     Monday   \n",
       "36  CSAA - QF's         HSLA-Manhattan   Varsity - Boys 2023-11-13     Monday   \n",
       "38  CSAA - SF's         HSLA-Manhattan   Varsity - Boys 2023-11-15  Wednesday   \n",
       "\n",
       "       Time                         Venue                  Home Team  \\\n",
       "0   2:30 PM                       Pier 42       Essex Street Academy   \n",
       "3   5:00 PM                  Jacob Schiff             American Dream   \n",
       "6   5:00 PM                  Jacob Schiff  Success Academy Manhattan   \n",
       "9   5:00 PM  Central Park North Meadow #6  Success Academy Manhattan   \n",
       "11  4:00 PM  Central Park North Meadow #5  Success Academy Manhattan   \n",
       "15  5:00 PM                  Jacob Schiff     Success Academy Harlem   \n",
       "17  4:00 PM                Starlight Park                New Visions   \n",
       "21  5:00 PM         Thomas Jefferson Park              Cristo Rey NY   \n",
       "22  4:00 PM              Macombs Dam Park                New Heights   \n",
       "25  5:00 PM         Thomas Jefferson Park  Success Academy Manhattan   \n",
       "31  4:00 PM         Thomas Jefferson Park  Success Academy Manhattan   \n",
       "36  5:00 PM             Harlem River Park  Success Academy Manhattan   \n",
       "38  5:00 PM             Harlem River Park  Success Academy Manhattan   \n",
       "\n",
       "                Visiting Team       Result Record Needs Bus          Notes  \\\n",
       "0   Success Academy Manhattan        W 6-4    NaN        No            NaN   \n",
       "3   Success Academy Manhattan        W 3-2    1-0        No        No nets   \n",
       "6             Saint Demetrios        W 8-0    2-0        No  Nets provided   \n",
       "9                     Legacy         W 3-1    3-0        No  Nets provided   \n",
       "11            BASIS Manhattan  W 3-0 (FFT)    4-0        No  Nets provided   \n",
       "15  Success Academy Manhattan        T 2-2  4-1-0        No            NaN   \n",
       "17  Success Academy Manhattan        L 4-3  4-1-1        No            NaN   \n",
       "21  Success Academy Manhattan        L 3-1  4-1-2        No            NaN   \n",
       "22  Success Academy Manhattan  W 3-0 (FFT)  5-1-2        No            NaN   \n",
       "25           Health & Science        W 8-0  6-1-2        No            NaN   \n",
       "31                   KIPP NYC        W 1-0  7-1-2        No            NaN   \n",
       "36                    Legacy         W 2-0  8-1-2        No            NaN   \n",
       "38                New Visions        L 0-1  8-1-3        No            NaN   \n",
       "\n",
       "    Manhattan Score Opposition Score Game Result                Opponent  \n",
       "0                 6                4           W    Essex Street Academy  \n",
       "3                 3                2           W          American Dream  \n",
       "6                 8                0           W         Saint Demetrios  \n",
       "9                 3                1           W                 Legacy   \n",
       "11                3                0           W         BASIS Manhattan  \n",
       "15                2                2           T  Success Academy Harlem  \n",
       "17                3                4           L             New Visions  \n",
       "21                1                3           L           Cristo Rey NY  \n",
       "22                3                0           W             New Heights  \n",
       "25                8                0           W        Health & Science  \n",
       "31                1                0           W                KIPP NYC  \n",
       "36                2                0           W                 Legacy   \n",
       "38                0                1           L             New Visions  "
      ]
     },
     "execution_count": 63,
     "metadata": {},
     "output_type": "execute_result"
    }
   ],
   "source": [
    "success_manhattan"
   ]
  },
  {
   "cell_type": "code",
   "execution_count": 38,
   "metadata": {},
   "outputs": [
    {
     "data": {
      "application/vnd.plotly.v1+json": {
       "config": {
        "plotlyServerURL": "https://plot.ly"
       },
       "data": [
        {
         "customdata": [
          [
           "4",
           "W",
           "Essex Street Academy"
          ],
          [
           "2",
           "W",
           "American Dream"
          ],
          [
           "0",
           "W",
           "Saint Demetrios"
          ],
          [
           "1",
           "W",
           "Legacy "
          ],
          [
           "0",
           "W",
           "BASIS Manhattan"
          ],
          [
           "2",
           "T",
           "Success Academy Harlem"
          ],
          [
           "4",
           "L",
           "New Visions"
          ],
          [
           "3",
           "L",
           "Cristo Rey NY"
          ],
          [
           "0",
           "W",
           "New Heights"
          ],
          [
           "0",
           "W",
           "Health & Science"
          ],
          [
           "0",
           "W",
           "KIPP NYC"
          ],
          [
           "0",
           "W",
           "Legacy "
          ],
          [
           "1",
           "L",
           "New Visions"
          ]
         ],
         "hovertemplate": "Opponent: %{customdata[2]}<br>Game Result: %{customdata[1]}<br>Manhttan Score: %{y}<br>Opposition Score: %{customdata[0]}",
         "legendgroup": "",
         "line": {
          "color": "#636efa",
          "dash": "solid"
         },
         "marker": {
          "symbol": "circle"
         },
         "mode": "markers+lines",
         "name": "Manhattan",
         "orientation": "v",
         "showlegend": true,
         "type": "scatter",
         "x": [
          "2023-09-24T00:00:00",
          "2023-09-28T00:00:00",
          "2023-10-03T00:00:00",
          "2023-10-12T00:00:00",
          "2023-10-13T00:00:00",
          "2023-10-17T00:00:00",
          "2023-10-19T00:00:00",
          "2023-10-23T00:00:00",
          "2023-10-24T00:00:00",
          "2023-10-30T00:00:00",
          "2023-11-06T00:00:00",
          "2023-11-13T00:00:00",
          "2023-11-15T00:00:00"
         ],
         "xaxis": "x",
         "y": [
          6,
          3,
          8,
          3,
          3,
          2,
          3,
          1,
          3,
          8,
          1,
          2,
          0
         ],
         "yaxis": "y"
        },
        {
         "mode": "markers+lines",
         "name": "Opponent",
         "type": "scatter",
         "x": [
          "2023-09-24T00:00:00",
          "2023-09-28T00:00:00",
          "2023-10-03T00:00:00",
          "2023-10-12T00:00:00",
          "2023-10-13T00:00:00",
          "2023-10-17T00:00:00",
          "2023-10-19T00:00:00",
          "2023-10-23T00:00:00",
          "2023-10-24T00:00:00",
          "2023-10-30T00:00:00",
          "2023-11-06T00:00:00",
          "2023-11-13T00:00:00",
          "2023-11-15T00:00:00"
         ],
         "y": [
          "4",
          "2",
          "0",
          "1",
          "0",
          "2",
          "4",
          "3",
          "0",
          "0",
          "0",
          "0",
          "1"
         ]
        }
       ],
       "layout": {
        "hovermode": "x",
        "legend": {
         "tracegroupgap": 0
        },
        "template": {
         "data": {
          "bar": [
           {
            "error_x": {
             "color": "#2a3f5f"
            },
            "error_y": {
             "color": "#2a3f5f"
            },
            "marker": {
             "line": {
              "color": "#E5ECF6",
              "width": 0.5
             },
             "pattern": {
              "fillmode": "overlay",
              "size": 10,
              "solidity": 0.2
             }
            },
            "type": "bar"
           }
          ],
          "barpolar": [
           {
            "marker": {
             "line": {
              "color": "#E5ECF6",
              "width": 0.5
             },
             "pattern": {
              "fillmode": "overlay",
              "size": 10,
              "solidity": 0.2
             }
            },
            "type": "barpolar"
           }
          ],
          "carpet": [
           {
            "aaxis": {
             "endlinecolor": "#2a3f5f",
             "gridcolor": "white",
             "linecolor": "white",
             "minorgridcolor": "white",
             "startlinecolor": "#2a3f5f"
            },
            "baxis": {
             "endlinecolor": "#2a3f5f",
             "gridcolor": "white",
             "linecolor": "white",
             "minorgridcolor": "white",
             "startlinecolor": "#2a3f5f"
            },
            "type": "carpet"
           }
          ],
          "choropleth": [
           {
            "colorbar": {
             "outlinewidth": 0,
             "ticks": ""
            },
            "type": "choropleth"
           }
          ],
          "contour": [
           {
            "colorbar": {
             "outlinewidth": 0,
             "ticks": ""
            },
            "colorscale": [
             [
              0,
              "#0d0887"
             ],
             [
              0.1111111111111111,
              "#46039f"
             ],
             [
              0.2222222222222222,
              "#7201a8"
             ],
             [
              0.3333333333333333,
              "#9c179e"
             ],
             [
              0.4444444444444444,
              "#bd3786"
             ],
             [
              0.5555555555555556,
              "#d8576b"
             ],
             [
              0.6666666666666666,
              "#ed7953"
             ],
             [
              0.7777777777777778,
              "#fb9f3a"
             ],
             [
              0.8888888888888888,
              "#fdca26"
             ],
             [
              1,
              "#f0f921"
             ]
            ],
            "type": "contour"
           }
          ],
          "contourcarpet": [
           {
            "colorbar": {
             "outlinewidth": 0,
             "ticks": ""
            },
            "type": "contourcarpet"
           }
          ],
          "heatmap": [
           {
            "colorbar": {
             "outlinewidth": 0,
             "ticks": ""
            },
            "colorscale": [
             [
              0,
              "#0d0887"
             ],
             [
              0.1111111111111111,
              "#46039f"
             ],
             [
              0.2222222222222222,
              "#7201a8"
             ],
             [
              0.3333333333333333,
              "#9c179e"
             ],
             [
              0.4444444444444444,
              "#bd3786"
             ],
             [
              0.5555555555555556,
              "#d8576b"
             ],
             [
              0.6666666666666666,
              "#ed7953"
             ],
             [
              0.7777777777777778,
              "#fb9f3a"
             ],
             [
              0.8888888888888888,
              "#fdca26"
             ],
             [
              1,
              "#f0f921"
             ]
            ],
            "type": "heatmap"
           }
          ],
          "heatmapgl": [
           {
            "colorbar": {
             "outlinewidth": 0,
             "ticks": ""
            },
            "colorscale": [
             [
              0,
              "#0d0887"
             ],
             [
              0.1111111111111111,
              "#46039f"
             ],
             [
              0.2222222222222222,
              "#7201a8"
             ],
             [
              0.3333333333333333,
              "#9c179e"
             ],
             [
              0.4444444444444444,
              "#bd3786"
             ],
             [
              0.5555555555555556,
              "#d8576b"
             ],
             [
              0.6666666666666666,
              "#ed7953"
             ],
             [
              0.7777777777777778,
              "#fb9f3a"
             ],
             [
              0.8888888888888888,
              "#fdca26"
             ],
             [
              1,
              "#f0f921"
             ]
            ],
            "type": "heatmapgl"
           }
          ],
          "histogram": [
           {
            "marker": {
             "pattern": {
              "fillmode": "overlay",
              "size": 10,
              "solidity": 0.2
             }
            },
            "type": "histogram"
           }
          ],
          "histogram2d": [
           {
            "colorbar": {
             "outlinewidth": 0,
             "ticks": ""
            },
            "colorscale": [
             [
              0,
              "#0d0887"
             ],
             [
              0.1111111111111111,
              "#46039f"
             ],
             [
              0.2222222222222222,
              "#7201a8"
             ],
             [
              0.3333333333333333,
              "#9c179e"
             ],
             [
              0.4444444444444444,
              "#bd3786"
             ],
             [
              0.5555555555555556,
              "#d8576b"
             ],
             [
              0.6666666666666666,
              "#ed7953"
             ],
             [
              0.7777777777777778,
              "#fb9f3a"
             ],
             [
              0.8888888888888888,
              "#fdca26"
             ],
             [
              1,
              "#f0f921"
             ]
            ],
            "type": "histogram2d"
           }
          ],
          "histogram2dcontour": [
           {
            "colorbar": {
             "outlinewidth": 0,
             "ticks": ""
            },
            "colorscale": [
             [
              0,
              "#0d0887"
             ],
             [
              0.1111111111111111,
              "#46039f"
             ],
             [
              0.2222222222222222,
              "#7201a8"
             ],
             [
              0.3333333333333333,
              "#9c179e"
             ],
             [
              0.4444444444444444,
              "#bd3786"
             ],
             [
              0.5555555555555556,
              "#d8576b"
             ],
             [
              0.6666666666666666,
              "#ed7953"
             ],
             [
              0.7777777777777778,
              "#fb9f3a"
             ],
             [
              0.8888888888888888,
              "#fdca26"
             ],
             [
              1,
              "#f0f921"
             ]
            ],
            "type": "histogram2dcontour"
           }
          ],
          "mesh3d": [
           {
            "colorbar": {
             "outlinewidth": 0,
             "ticks": ""
            },
            "type": "mesh3d"
           }
          ],
          "parcoords": [
           {
            "line": {
             "colorbar": {
              "outlinewidth": 0,
              "ticks": ""
             }
            },
            "type": "parcoords"
           }
          ],
          "pie": [
           {
            "automargin": true,
            "type": "pie"
           }
          ],
          "scatter": [
           {
            "fillpattern": {
             "fillmode": "overlay",
             "size": 10,
             "solidity": 0.2
            },
            "type": "scatter"
           }
          ],
          "scatter3d": [
           {
            "line": {
             "colorbar": {
              "outlinewidth": 0,
              "ticks": ""
             }
            },
            "marker": {
             "colorbar": {
              "outlinewidth": 0,
              "ticks": ""
             }
            },
            "type": "scatter3d"
           }
          ],
          "scattercarpet": [
           {
            "marker": {
             "colorbar": {
              "outlinewidth": 0,
              "ticks": ""
             }
            },
            "type": "scattercarpet"
           }
          ],
          "scattergeo": [
           {
            "marker": {
             "colorbar": {
              "outlinewidth": 0,
              "ticks": ""
             }
            },
            "type": "scattergeo"
           }
          ],
          "scattergl": [
           {
            "marker": {
             "colorbar": {
              "outlinewidth": 0,
              "ticks": ""
             }
            },
            "type": "scattergl"
           }
          ],
          "scattermapbox": [
           {
            "marker": {
             "colorbar": {
              "outlinewidth": 0,
              "ticks": ""
             }
            },
            "type": "scattermapbox"
           }
          ],
          "scatterpolar": [
           {
            "marker": {
             "colorbar": {
              "outlinewidth": 0,
              "ticks": ""
             }
            },
            "type": "scatterpolar"
           }
          ],
          "scatterpolargl": [
           {
            "marker": {
             "colorbar": {
              "outlinewidth": 0,
              "ticks": ""
             }
            },
            "type": "scatterpolargl"
           }
          ],
          "scatterternary": [
           {
            "marker": {
             "colorbar": {
              "outlinewidth": 0,
              "ticks": ""
             }
            },
            "type": "scatterternary"
           }
          ],
          "surface": [
           {
            "colorbar": {
             "outlinewidth": 0,
             "ticks": ""
            },
            "colorscale": [
             [
              0,
              "#0d0887"
             ],
             [
              0.1111111111111111,
              "#46039f"
             ],
             [
              0.2222222222222222,
              "#7201a8"
             ],
             [
              0.3333333333333333,
              "#9c179e"
             ],
             [
              0.4444444444444444,
              "#bd3786"
             ],
             [
              0.5555555555555556,
              "#d8576b"
             ],
             [
              0.6666666666666666,
              "#ed7953"
             ],
             [
              0.7777777777777778,
              "#fb9f3a"
             ],
             [
              0.8888888888888888,
              "#fdca26"
             ],
             [
              1,
              "#f0f921"
             ]
            ],
            "type": "surface"
           }
          ],
          "table": [
           {
            "cells": {
             "fill": {
              "color": "#EBF0F8"
             },
             "line": {
              "color": "white"
             }
            },
            "header": {
             "fill": {
              "color": "#C8D4E3"
             },
             "line": {
              "color": "white"
             }
            },
            "type": "table"
           }
          ]
         },
         "layout": {
          "annotationdefaults": {
           "arrowcolor": "#2a3f5f",
           "arrowhead": 0,
           "arrowwidth": 1
          },
          "autotypenumbers": "strict",
          "coloraxis": {
           "colorbar": {
            "outlinewidth": 0,
            "ticks": ""
           }
          },
          "colorscale": {
           "diverging": [
            [
             0,
             "#8e0152"
            ],
            [
             0.1,
             "#c51b7d"
            ],
            [
             0.2,
             "#de77ae"
            ],
            [
             0.3,
             "#f1b6da"
            ],
            [
             0.4,
             "#fde0ef"
            ],
            [
             0.5,
             "#f7f7f7"
            ],
            [
             0.6,
             "#e6f5d0"
            ],
            [
             0.7,
             "#b8e186"
            ],
            [
             0.8,
             "#7fbc41"
            ],
            [
             0.9,
             "#4d9221"
            ],
            [
             1,
             "#276419"
            ]
           ],
           "sequential": [
            [
             0,
             "#0d0887"
            ],
            [
             0.1111111111111111,
             "#46039f"
            ],
            [
             0.2222222222222222,
             "#7201a8"
            ],
            [
             0.3333333333333333,
             "#9c179e"
            ],
            [
             0.4444444444444444,
             "#bd3786"
            ],
            [
             0.5555555555555556,
             "#d8576b"
            ],
            [
             0.6666666666666666,
             "#ed7953"
            ],
            [
             0.7777777777777778,
             "#fb9f3a"
            ],
            [
             0.8888888888888888,
             "#fdca26"
            ],
            [
             1,
             "#f0f921"
            ]
           ],
           "sequentialminus": [
            [
             0,
             "#0d0887"
            ],
            [
             0.1111111111111111,
             "#46039f"
            ],
            [
             0.2222222222222222,
             "#7201a8"
            ],
            [
             0.3333333333333333,
             "#9c179e"
            ],
            [
             0.4444444444444444,
             "#bd3786"
            ],
            [
             0.5555555555555556,
             "#d8576b"
            ],
            [
             0.6666666666666666,
             "#ed7953"
            ],
            [
             0.7777777777777778,
             "#fb9f3a"
            ],
            [
             0.8888888888888888,
             "#fdca26"
            ],
            [
             1,
             "#f0f921"
            ]
           ]
          },
          "colorway": [
           "#636efa",
           "#EF553B",
           "#00cc96",
           "#ab63fa",
           "#FFA15A",
           "#19d3f3",
           "#FF6692",
           "#B6E880",
           "#FF97FF",
           "#FECB52"
          ],
          "font": {
           "color": "#2a3f5f"
          },
          "geo": {
           "bgcolor": "white",
           "lakecolor": "white",
           "landcolor": "#E5ECF6",
           "showlakes": true,
           "showland": true,
           "subunitcolor": "white"
          },
          "hoverlabel": {
           "align": "left"
          },
          "hovermode": "closest",
          "mapbox": {
           "style": "light"
          },
          "paper_bgcolor": "white",
          "plot_bgcolor": "#E5ECF6",
          "polar": {
           "angularaxis": {
            "gridcolor": "white",
            "linecolor": "white",
            "ticks": ""
           },
           "bgcolor": "#E5ECF6",
           "radialaxis": {
            "gridcolor": "white",
            "linecolor": "white",
            "ticks": ""
           }
          },
          "scene": {
           "xaxis": {
            "backgroundcolor": "#E5ECF6",
            "gridcolor": "white",
            "gridwidth": 2,
            "linecolor": "white",
            "showbackground": true,
            "ticks": "",
            "zerolinecolor": "white"
           },
           "yaxis": {
            "backgroundcolor": "#E5ECF6",
            "gridcolor": "white",
            "gridwidth": 2,
            "linecolor": "white",
            "showbackground": true,
            "ticks": "",
            "zerolinecolor": "white"
           },
           "zaxis": {
            "backgroundcolor": "#E5ECF6",
            "gridcolor": "white",
            "gridwidth": 2,
            "linecolor": "white",
            "showbackground": true,
            "ticks": "",
            "zerolinecolor": "white"
           }
          },
          "shapedefaults": {
           "line": {
            "color": "#2a3f5f"
           }
          },
          "ternary": {
           "aaxis": {
            "gridcolor": "white",
            "linecolor": "white",
            "ticks": ""
           },
           "baxis": {
            "gridcolor": "white",
            "linecolor": "white",
            "ticks": ""
           },
           "bgcolor": "#E5ECF6",
           "caxis": {
            "gridcolor": "white",
            "linecolor": "white",
            "ticks": ""
           }
          },
          "title": {
           "x": 0.05
          },
          "xaxis": {
           "automargin": true,
           "gridcolor": "white",
           "linecolor": "white",
           "ticks": "",
           "title": {
            "standoff": 15
           },
           "zerolinecolor": "white",
           "zerolinewidth": 2
          },
          "yaxis": {
           "automargin": true,
           "gridcolor": "white",
           "linecolor": "white",
           "ticks": "",
           "title": {
            "standoff": 15
           },
           "zerolinecolor": "white",
           "zerolinewidth": 2
          }
         }
        },
        "title": {
         "text": "Success Academy Season: Fall 2023"
        },
        "xaxis": {
         "anchor": "y",
         "domain": [
          0,
          1
         ],
         "title": {
          "text": "Date of Game"
         }
        },
        "yaxis": {
         "anchor": "x",
         "domain": [
          0,
          1
         ],
         "title": {
          "text": "Goals Scored"
         }
        }
       }
      }
     },
     "metadata": {},
     "output_type": "display_data"
    }
   ],
   "source": [
    "import plotly.express as px\n",
    "import numpy as np\n",
    "import plotly.graph_objects as go\n",
    "success_manhattan\n",
    "x = success_manhattan['Date']\n",
    "y=success_manhattan['Manhattan Score']\n",
    "fig = px.line(success_manhattan, \n",
    "             x=x, \n",
    "             y=y, \n",
    "             custom_data=['Opposition Score', 'Game Result', 'Opponent'],\n",
    "             title='Success Academy Season: Fall 2023')\n",
    "\n",
    "fig.update_traces(\n",
    "    hovertemplate=\"<br>\".join([\n",
    "        \"Opponent: %{customdata[2]}\",\n",
    "        \"Game Result: %{customdata[1]}\",\n",
    "        \"Manhttan Score: %{y}\",\n",
    "        \"Opposition Score: %{customdata[0]}\"\n",
    "    ])\n",
    ")\n",
    "fig.update_traces(name='Manhattan', showlegend = True)\n",
    "\n",
    "fig.add_scatter(x=success_manhattan['Date'], \n",
    "                y=success_manhattan['Opposition Score'], \n",
    "                mode='lines',\n",
    "                hovertemplate=None,\n",
    "                name='Opponent')\n",
    "\n",
    "\n",
    "fig.update_layout(xaxis_title=\"Date of Game\",\n",
    "                  yaxis_title=\"Goals Scored\", \n",
    "                  hovermode=\"x\")\n",
    "fig.update_traces(mode=\"markers+lines\")\n",
    "fig.show()"
   ]
  },
  {
   "cell_type": "code",
   "execution_count": 60,
   "metadata": {},
   "outputs": [
    {
     "data": {
      "application/vnd.plotly.v1+json": {
       "config": {
        "plotlyServerURL": "https://plot.ly"
       },
       "data": [
        {
         "customdata": [
          [
           "1",
           "W",
           "Basis Independent Manhattan"
          ],
          [
           "2",
           "W",
           "American Dream"
          ],
          [
           "1",
           "W",
           "Cristo Rey NY"
          ],
          [
           "0",
           "W",
           "New Heights"
          ],
          [
           "2",
           "T",
           "Success Academy Manhattan"
          ],
          [
           "0",
           "W",
           "Saint Demetrios"
          ],
          [
           "2",
           "W",
           "Essex Street Academy"
          ],
          [
           "0",
           "W",
           "Health & Science"
          ],
          [
           "1",
           "W",
           "Legacy "
          ],
          [
           "2",
           "W",
           "KIPP NYC"
          ],
          [
           "0",
           "W",
           "New Visions"
          ],
          [
           "1",
           "W",
           "Health & Science"
          ],
          [
           "0",
           "W",
           "Cristo Rey NY"
          ],
          [
           "1",
           "L",
           "New Visions"
          ]
         ],
         "hovertemplate": "Opponent: %{customdata[2]}<br>Game Result: %{customdata[1]}<br>Manhttan Score: %{y}<br>Opposition Score: %{customdata[0]}",
         "legendgroup": "",
         "line": {
          "color": "#636efa",
          "dash": "solid"
         },
         "marker": {
          "symbol": "circle"
         },
         "mode": "markers+lines",
         "name": "Harlem",
         "orientation": "v",
         "showlegend": true,
         "type": "scatter",
         "x": [
          "2023-09-28T00:00:00",
          "2023-10-02T00:00:00",
          "2023-10-12T00:00:00",
          "2023-10-13T00:00:00",
          "2023-10-17T00:00:00",
          "2023-10-19T00:00:00",
          "2023-10-21T00:00:00",
          "2023-10-27T00:00:00",
          "2023-10-30T00:00:00",
          "2023-11-03T00:00:00",
          "2023-11-08T00:00:00",
          "2023-11-13T00:00:00",
          "2023-11-15T00:00:00",
          "2023-11-17T00:00:00"
         ],
         "xaxis": "x",
         "y": [
          5,
          4,
          2,
          12,
          2,
          7,
          6,
          7,
          4,
          3,
          1,
          6,
          1,
          1
         ],
         "yaxis": "y"
        },
        {
         "mode": "markers+lines",
         "name": "Opponent",
         "type": "scatter",
         "x": [
          "2023-09-28T00:00:00",
          "2023-10-02T00:00:00",
          "2023-10-12T00:00:00",
          "2023-10-13T00:00:00",
          "2023-10-17T00:00:00",
          "2023-10-19T00:00:00",
          "2023-10-21T00:00:00",
          "2023-10-27T00:00:00",
          "2023-10-30T00:00:00",
          "2023-11-03T00:00:00",
          "2023-11-08T00:00:00",
          "2023-11-13T00:00:00",
          "2023-11-15T00:00:00",
          "2023-11-17T00:00:00"
         ],
         "y": [
          "1",
          "2",
          "1",
          "0",
          "2",
          "0",
          "2",
          "0",
          "1",
          "2",
          "0",
          "1",
          "0",
          "1"
         ]
        }
       ],
       "layout": {
        "hovermode": "x",
        "legend": {
         "tracegroupgap": 0
        },
        "template": {
         "data": {
          "bar": [
           {
            "error_x": {
             "color": "#2a3f5f"
            },
            "error_y": {
             "color": "#2a3f5f"
            },
            "marker": {
             "line": {
              "color": "#E5ECF6",
              "width": 0.5
             },
             "pattern": {
              "fillmode": "overlay",
              "size": 10,
              "solidity": 0.2
             }
            },
            "type": "bar"
           }
          ],
          "barpolar": [
           {
            "marker": {
             "line": {
              "color": "#E5ECF6",
              "width": 0.5
             },
             "pattern": {
              "fillmode": "overlay",
              "size": 10,
              "solidity": 0.2
             }
            },
            "type": "barpolar"
           }
          ],
          "carpet": [
           {
            "aaxis": {
             "endlinecolor": "#2a3f5f",
             "gridcolor": "white",
             "linecolor": "white",
             "minorgridcolor": "white",
             "startlinecolor": "#2a3f5f"
            },
            "baxis": {
             "endlinecolor": "#2a3f5f",
             "gridcolor": "white",
             "linecolor": "white",
             "minorgridcolor": "white",
             "startlinecolor": "#2a3f5f"
            },
            "type": "carpet"
           }
          ],
          "choropleth": [
           {
            "colorbar": {
             "outlinewidth": 0,
             "ticks": ""
            },
            "type": "choropleth"
           }
          ],
          "contour": [
           {
            "colorbar": {
             "outlinewidth": 0,
             "ticks": ""
            },
            "colorscale": [
             [
              0,
              "#0d0887"
             ],
             [
              0.1111111111111111,
              "#46039f"
             ],
             [
              0.2222222222222222,
              "#7201a8"
             ],
             [
              0.3333333333333333,
              "#9c179e"
             ],
             [
              0.4444444444444444,
              "#bd3786"
             ],
             [
              0.5555555555555556,
              "#d8576b"
             ],
             [
              0.6666666666666666,
              "#ed7953"
             ],
             [
              0.7777777777777778,
              "#fb9f3a"
             ],
             [
              0.8888888888888888,
              "#fdca26"
             ],
             [
              1,
              "#f0f921"
             ]
            ],
            "type": "contour"
           }
          ],
          "contourcarpet": [
           {
            "colorbar": {
             "outlinewidth": 0,
             "ticks": ""
            },
            "type": "contourcarpet"
           }
          ],
          "heatmap": [
           {
            "colorbar": {
             "outlinewidth": 0,
             "ticks": ""
            },
            "colorscale": [
             [
              0,
              "#0d0887"
             ],
             [
              0.1111111111111111,
              "#46039f"
             ],
             [
              0.2222222222222222,
              "#7201a8"
             ],
             [
              0.3333333333333333,
              "#9c179e"
             ],
             [
              0.4444444444444444,
              "#bd3786"
             ],
             [
              0.5555555555555556,
              "#d8576b"
             ],
             [
              0.6666666666666666,
              "#ed7953"
             ],
             [
              0.7777777777777778,
              "#fb9f3a"
             ],
             [
              0.8888888888888888,
              "#fdca26"
             ],
             [
              1,
              "#f0f921"
             ]
            ],
            "type": "heatmap"
           }
          ],
          "heatmapgl": [
           {
            "colorbar": {
             "outlinewidth": 0,
             "ticks": ""
            },
            "colorscale": [
             [
              0,
              "#0d0887"
             ],
             [
              0.1111111111111111,
              "#46039f"
             ],
             [
              0.2222222222222222,
              "#7201a8"
             ],
             [
              0.3333333333333333,
              "#9c179e"
             ],
             [
              0.4444444444444444,
              "#bd3786"
             ],
             [
              0.5555555555555556,
              "#d8576b"
             ],
             [
              0.6666666666666666,
              "#ed7953"
             ],
             [
              0.7777777777777778,
              "#fb9f3a"
             ],
             [
              0.8888888888888888,
              "#fdca26"
             ],
             [
              1,
              "#f0f921"
             ]
            ],
            "type": "heatmapgl"
           }
          ],
          "histogram": [
           {
            "marker": {
             "pattern": {
              "fillmode": "overlay",
              "size": 10,
              "solidity": 0.2
             }
            },
            "type": "histogram"
           }
          ],
          "histogram2d": [
           {
            "colorbar": {
             "outlinewidth": 0,
             "ticks": ""
            },
            "colorscale": [
             [
              0,
              "#0d0887"
             ],
             [
              0.1111111111111111,
              "#46039f"
             ],
             [
              0.2222222222222222,
              "#7201a8"
             ],
             [
              0.3333333333333333,
              "#9c179e"
             ],
             [
              0.4444444444444444,
              "#bd3786"
             ],
             [
              0.5555555555555556,
              "#d8576b"
             ],
             [
              0.6666666666666666,
              "#ed7953"
             ],
             [
              0.7777777777777778,
              "#fb9f3a"
             ],
             [
              0.8888888888888888,
              "#fdca26"
             ],
             [
              1,
              "#f0f921"
             ]
            ],
            "type": "histogram2d"
           }
          ],
          "histogram2dcontour": [
           {
            "colorbar": {
             "outlinewidth": 0,
             "ticks": ""
            },
            "colorscale": [
             [
              0,
              "#0d0887"
             ],
             [
              0.1111111111111111,
              "#46039f"
             ],
             [
              0.2222222222222222,
              "#7201a8"
             ],
             [
              0.3333333333333333,
              "#9c179e"
             ],
             [
              0.4444444444444444,
              "#bd3786"
             ],
             [
              0.5555555555555556,
              "#d8576b"
             ],
             [
              0.6666666666666666,
              "#ed7953"
             ],
             [
              0.7777777777777778,
              "#fb9f3a"
             ],
             [
              0.8888888888888888,
              "#fdca26"
             ],
             [
              1,
              "#f0f921"
             ]
            ],
            "type": "histogram2dcontour"
           }
          ],
          "mesh3d": [
           {
            "colorbar": {
             "outlinewidth": 0,
             "ticks": ""
            },
            "type": "mesh3d"
           }
          ],
          "parcoords": [
           {
            "line": {
             "colorbar": {
              "outlinewidth": 0,
              "ticks": ""
             }
            },
            "type": "parcoords"
           }
          ],
          "pie": [
           {
            "automargin": true,
            "type": "pie"
           }
          ],
          "scatter": [
           {
            "fillpattern": {
             "fillmode": "overlay",
             "size": 10,
             "solidity": 0.2
            },
            "type": "scatter"
           }
          ],
          "scatter3d": [
           {
            "line": {
             "colorbar": {
              "outlinewidth": 0,
              "ticks": ""
             }
            },
            "marker": {
             "colorbar": {
              "outlinewidth": 0,
              "ticks": ""
             }
            },
            "type": "scatter3d"
           }
          ],
          "scattercarpet": [
           {
            "marker": {
             "colorbar": {
              "outlinewidth": 0,
              "ticks": ""
             }
            },
            "type": "scattercarpet"
           }
          ],
          "scattergeo": [
           {
            "marker": {
             "colorbar": {
              "outlinewidth": 0,
              "ticks": ""
             }
            },
            "type": "scattergeo"
           }
          ],
          "scattergl": [
           {
            "marker": {
             "colorbar": {
              "outlinewidth": 0,
              "ticks": ""
             }
            },
            "type": "scattergl"
           }
          ],
          "scattermapbox": [
           {
            "marker": {
             "colorbar": {
              "outlinewidth": 0,
              "ticks": ""
             }
            },
            "type": "scattermapbox"
           }
          ],
          "scatterpolar": [
           {
            "marker": {
             "colorbar": {
              "outlinewidth": 0,
              "ticks": ""
             }
            },
            "type": "scatterpolar"
           }
          ],
          "scatterpolargl": [
           {
            "marker": {
             "colorbar": {
              "outlinewidth": 0,
              "ticks": ""
             }
            },
            "type": "scatterpolargl"
           }
          ],
          "scatterternary": [
           {
            "marker": {
             "colorbar": {
              "outlinewidth": 0,
              "ticks": ""
             }
            },
            "type": "scatterternary"
           }
          ],
          "surface": [
           {
            "colorbar": {
             "outlinewidth": 0,
             "ticks": ""
            },
            "colorscale": [
             [
              0,
              "#0d0887"
             ],
             [
              0.1111111111111111,
              "#46039f"
             ],
             [
              0.2222222222222222,
              "#7201a8"
             ],
             [
              0.3333333333333333,
              "#9c179e"
             ],
             [
              0.4444444444444444,
              "#bd3786"
             ],
             [
              0.5555555555555556,
              "#d8576b"
             ],
             [
              0.6666666666666666,
              "#ed7953"
             ],
             [
              0.7777777777777778,
              "#fb9f3a"
             ],
             [
              0.8888888888888888,
              "#fdca26"
             ],
             [
              1,
              "#f0f921"
             ]
            ],
            "type": "surface"
           }
          ],
          "table": [
           {
            "cells": {
             "fill": {
              "color": "#EBF0F8"
             },
             "line": {
              "color": "white"
             }
            },
            "header": {
             "fill": {
              "color": "#C8D4E3"
             },
             "line": {
              "color": "white"
             }
            },
            "type": "table"
           }
          ]
         },
         "layout": {
          "annotationdefaults": {
           "arrowcolor": "#2a3f5f",
           "arrowhead": 0,
           "arrowwidth": 1
          },
          "autotypenumbers": "strict",
          "coloraxis": {
           "colorbar": {
            "outlinewidth": 0,
            "ticks": ""
           }
          },
          "colorscale": {
           "diverging": [
            [
             0,
             "#8e0152"
            ],
            [
             0.1,
             "#c51b7d"
            ],
            [
             0.2,
             "#de77ae"
            ],
            [
             0.3,
             "#f1b6da"
            ],
            [
             0.4,
             "#fde0ef"
            ],
            [
             0.5,
             "#f7f7f7"
            ],
            [
             0.6,
             "#e6f5d0"
            ],
            [
             0.7,
             "#b8e186"
            ],
            [
             0.8,
             "#7fbc41"
            ],
            [
             0.9,
             "#4d9221"
            ],
            [
             1,
             "#276419"
            ]
           ],
           "sequential": [
            [
             0,
             "#0d0887"
            ],
            [
             0.1111111111111111,
             "#46039f"
            ],
            [
             0.2222222222222222,
             "#7201a8"
            ],
            [
             0.3333333333333333,
             "#9c179e"
            ],
            [
             0.4444444444444444,
             "#bd3786"
            ],
            [
             0.5555555555555556,
             "#d8576b"
            ],
            [
             0.6666666666666666,
             "#ed7953"
            ],
            [
             0.7777777777777778,
             "#fb9f3a"
            ],
            [
             0.8888888888888888,
             "#fdca26"
            ],
            [
             1,
             "#f0f921"
            ]
           ],
           "sequentialminus": [
            [
             0,
             "#0d0887"
            ],
            [
             0.1111111111111111,
             "#46039f"
            ],
            [
             0.2222222222222222,
             "#7201a8"
            ],
            [
             0.3333333333333333,
             "#9c179e"
            ],
            [
             0.4444444444444444,
             "#bd3786"
            ],
            [
             0.5555555555555556,
             "#d8576b"
            ],
            [
             0.6666666666666666,
             "#ed7953"
            ],
            [
             0.7777777777777778,
             "#fb9f3a"
            ],
            [
             0.8888888888888888,
             "#fdca26"
            ],
            [
             1,
             "#f0f921"
            ]
           ]
          },
          "colorway": [
           "#636efa",
           "#EF553B",
           "#00cc96",
           "#ab63fa",
           "#FFA15A",
           "#19d3f3",
           "#FF6692",
           "#B6E880",
           "#FF97FF",
           "#FECB52"
          ],
          "font": {
           "color": "#2a3f5f"
          },
          "geo": {
           "bgcolor": "white",
           "lakecolor": "white",
           "landcolor": "#E5ECF6",
           "showlakes": true,
           "showland": true,
           "subunitcolor": "white"
          },
          "hoverlabel": {
           "align": "left"
          },
          "hovermode": "closest",
          "mapbox": {
           "style": "light"
          },
          "paper_bgcolor": "white",
          "plot_bgcolor": "#E5ECF6",
          "polar": {
           "angularaxis": {
            "gridcolor": "white",
            "linecolor": "white",
            "ticks": ""
           },
           "bgcolor": "#E5ECF6",
           "radialaxis": {
            "gridcolor": "white",
            "linecolor": "white",
            "ticks": ""
           }
          },
          "scene": {
           "xaxis": {
            "backgroundcolor": "#E5ECF6",
            "gridcolor": "white",
            "gridwidth": 2,
            "linecolor": "white",
            "showbackground": true,
            "ticks": "",
            "zerolinecolor": "white"
           },
           "yaxis": {
            "backgroundcolor": "#E5ECF6",
            "gridcolor": "white",
            "gridwidth": 2,
            "linecolor": "white",
            "showbackground": true,
            "ticks": "",
            "zerolinecolor": "white"
           },
           "zaxis": {
            "backgroundcolor": "#E5ECF6",
            "gridcolor": "white",
            "gridwidth": 2,
            "linecolor": "white",
            "showbackground": true,
            "ticks": "",
            "zerolinecolor": "white"
           }
          },
          "shapedefaults": {
           "line": {
            "color": "#2a3f5f"
           }
          },
          "ternary": {
           "aaxis": {
            "gridcolor": "white",
            "linecolor": "white",
            "ticks": ""
           },
           "baxis": {
            "gridcolor": "white",
            "linecolor": "white",
            "ticks": ""
           },
           "bgcolor": "#E5ECF6",
           "caxis": {
            "gridcolor": "white",
            "linecolor": "white",
            "ticks": ""
           }
          },
          "title": {
           "x": 0.05
          },
          "xaxis": {
           "automargin": true,
           "gridcolor": "white",
           "linecolor": "white",
           "ticks": "",
           "title": {
            "standoff": 15
           },
           "zerolinecolor": "white",
           "zerolinewidth": 2
          },
          "yaxis": {
           "automargin": true,
           "gridcolor": "white",
           "linecolor": "white",
           "ticks": "",
           "title": {
            "standoff": 15
           },
           "zerolinecolor": "white",
           "zerolinewidth": 2
          }
         }
        },
        "title": {
         "text": "Success Academy Season: Fall 2023"
        },
        "xaxis": {
         "anchor": "y",
         "domain": [
          0,
          1
         ],
         "title": {
          "text": "Date of Game"
         }
        },
        "yaxis": {
         "anchor": "x",
         "domain": [
          0,
          1
         ],
         "title": {
          "text": "Goals Scored"
         }
        }
       }
      }
     },
     "metadata": {},
     "output_type": "display_data"
    }
   ],
   "source": [
    "import plotly.express as px\n",
    "import numpy as np\n",
    "import plotly.graph_objects as go\n",
    "success_harlem\n",
    "x = success_harlem['Date']\n",
    "y=success_harlem['Harlem Score']\n",
    "fig = px.line(success_harlem, \n",
    "             x=x, \n",
    "             y=y, \n",
    "             custom_data=['Opposition Score', 'Game Result', 'Opponent'],\n",
    "             title='Success Academy Season: Fall 2023')\n",
    "\n",
    "fig.update_traces(\n",
    "    hovertemplate=\"<br>\".join([\n",
    "        \"Opponent: %{customdata[2]}\",\n",
    "        \"Game Result: %{customdata[1]}\",\n",
    "        \"Manhttan Score: %{y}\",\n",
    "        \"Opposition Score: %{customdata[0]}\"\n",
    "    ])\n",
    ")\n",
    "fig.update_traces(name='Harlem', showlegend = True)\n",
    "\n",
    "fig.add_scatter(x=success_harlem['Date'], \n",
    "                y=success_harlem['Opposition Score'], \n",
    "                mode='lines',\n",
    "                hovertemplate=None,\n",
    "                name='Opponent')\n",
    "\n",
    "\n",
    "fig.update_layout(xaxis_title=\"Date of Game\",\n",
    "                  yaxis_title=\"Goals Scored\", \n",
    "                  hovermode=\"x\")\n",
    "fig.update_traces(mode=\"markers+lines\")\n",
    "fig.show()"
   ]
  }
 ],
 "metadata": {
  "kernelspec": {
   "display_name": "Python 3",
   "language": "python",
   "name": "python3"
  },
  "language_info": {
   "codemirror_mode": {
    "name": "ipython",
    "version": 3
   },
   "file_extension": ".py",
   "mimetype": "text/x-python",
   "name": "python",
   "nbconvert_exporter": "python",
   "pygments_lexer": "ipython3",
   "version": "3.11.7"
  }
 },
 "nbformat": 4,
 "nbformat_minor": 2
}
